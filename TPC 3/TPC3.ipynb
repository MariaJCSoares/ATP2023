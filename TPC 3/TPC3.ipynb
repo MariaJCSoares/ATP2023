{
 "cells": [
  {
   "cell_type": "markdown",
   "metadata": {},
   "source": [
    "## TPC3: Adivinha o número!?\n",
    "\n",
    "Desenvolve em Python o código necessário para o jogo do Adivinha o número: \n",
    "* O jogo deverá ter dois modos: o computador tenta acertar no número que o jogador pensou ou, o jogador tenta acertar no número que o computador pensou; \n",
    "* No fim, o programa deverá indicar quantas tentativas foram realizadas para chegar ao resultado;\n",
    "* O Jogo: \n",
    "    - o utilizador pensa num número entre 0 e 100;\n",
    "    - o computador tenta adivinhar indicando um número do intervalo;\n",
    "    - o utilizador indica se o número em que pensou é **maior**, **menor**, ou se o computador **acertou**;\n",
    "    - ao terminar, o programa imprime o número de tentativas que o computador teve de fazer até chegar ao número.\n",
    "\n",
    "Que conclusão podes tirar sobre o número de tentativas necessárias para um número entre 0 e 100? E se fosse entre 0 e 1000?"
   ]
  },
  {
   "cell_type": "code",
   "execution_count": null,
   "metadata": {},
   "outputs": [
    {
     "name": "stdout",
     "output_type": "stream",
     "text": [
      "O computador adivinhou o número em7tentativas\n"
     ]
    }
   ],
   "source": [
    "modo = int(input(\"Escolha a forma como pretende jogar?\\n0-Adivinha o número do computador\\n1-O computador adivinha o teu número\"))\n",
    "sup = 100\n",
    "inf = 0\n",
    "x = 0\n",
    "n = 0\n",
    "t = 1\n",
    "if modo == 0:\n",
    "    import random\n",
    "    r = random.randrange(0,100)\n",
    "    x = int(input(\"Diga um número\"))\n",
    "    while r!=x:\n",
    "        t = t + 1\n",
    "        if r>x:\n",
    "            print(\"maior\")\n",
    "        else:\n",
    "            print (\"menor\")\n",
    "        x = int(input(\"Diga um número\"))\n",
    "    print(\"Acertou em\",t, \"tentativas!\" )\n",
    "elif modo == 1:\n",
    "    pergunta = str()\n",
    "    acertou = \"acertou\"\n",
    "    while pergunta!= acertou:\n",
    "        n = n + 1\n",
    "        x = int((sup + inf)/2)\n",
    "        pergunta = input(\"O seu número é\" + str(x) + \"?\")\n",
    "        if pergunta == \"maior\":\n",
    "            inf = x\n",
    "        else:\n",
    "            sup = x\n",
    "    print(\"O computador adivinhou o número em\" + str(n) + \"tentativas\")\n",
    "\n",
    "\n",
    "\n"
   ]
  }
 ],
 "metadata": {
  "kernelspec": {
   "display_name": "Python 3",
   "language": "python",
   "name": "python3"
  },
  "language_info": {
   "codemirror_mode": {
    "name": "ipython",
    "version": 3
   },
   "file_extension": ".py",
   "mimetype": "text/x-python",
   "name": "python",
   "nbconvert_exporter": "python",
   "pygments_lexer": "ipython3",
   "version": "3.11.5"
  },
  "orig_nbformat": 4
 },
 "nbformat": 4,
 "nbformat_minor": 2
}
